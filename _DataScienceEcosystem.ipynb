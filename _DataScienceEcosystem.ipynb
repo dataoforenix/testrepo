{
 "cells": [
  {
   "cell_type": "markdown",
   "id": "1887f051-1253-402d-bcc9-08a461b27acf",
   "metadata": {},
   "source": [
    "# Data Science Tools and Ecosystem"
   ]
  },
  {
   "cell_type": "markdown",
   "id": "50081557-5754-4006-bebb-975e573e6a23",
   "metadata": {},
   "source": [
    " In this notebook, Data Science Tools and Ecosystem are summarized."
   ]
  },
  {
   "cell_type": "markdown",
   "id": "625f5af0-93f5-4e0d-ad86-4c41256a503f",
   "metadata": {},
   "source": [
    "Some of the popular languages that Data Scientists use are:\n",
    "1. Python\n",
    "2. R\n",
    "3. SQL\n",
    "4. Julia"
   ]
  },
  {
   "cell_type": "markdown",
   "id": "956c38ea-e031-46cd-af48-6fae0d2807d9",
   "metadata": {},
   "source": [
    "Some of the commonly used libraries used by Data Scientists include:\n",
    "1. Pandas\n",
    "2. NumPy\n",
    "3. Scikit_learn\n",
    "4. TensorFlow\n",
    "5. Keras"
   ]
  },
  {
   "cell_type": "markdown",
   "id": "f63a7e9e-e38e-466e-96ea-6a356c891b27",
   "metadata": {},
   "source": [
    "| Data Scinence Tools |\n",
    "|---------------------|\n",
    "| Jupyter Notebook    |\n",
    "| RStudio             |\n",
    "| Apache Zeppelin     |"
   ]
  },
  {
   "cell_type": "markdown",
   "id": "40b71d83-d00f-414b-8808-bfc43f1f70cc",
   "metadata": {},
   "source": [
    "### Below are a few examples of evaluating arithmetic expressions in Python"
   ]
  },
  {
   "cell_type": "code",
   "execution_count": 1,
   "id": "df9a8d35-305c-4425-8e09-c57e7afae24b",
   "metadata": {},
   "outputs": [
    {
     "name": "stdout",
     "output_type": "stream",
     "text": [
      " (3*4)+5 = 17\n"
     ]
    }
   ],
   "source": [
    "# This a simple arithmetic expression to mutiply then add integers\n",
    "result=(3*4)+5\n",
    "print(\" (3*4)+5 =\", result)"
   ]
  },
  {
   "cell_type": "code",
   "execution_count": 2,
   "id": "205522ab-95c1-46ff-9fcb-90a3559cf4d1",
   "metadata": {},
   "outputs": [
    {
     "name": "stdout",
     "output_type": "stream",
     "text": [
      "200 minutes = 3.3333333333333335 hours\n"
     ]
    }
   ],
   "source": [
    "#  This will convert 200 minutes to hours by diving by 60\n",
    "minutes= 200\n",
    "hours = minutes/60\n",
    "print(f\"{minutes} minutes = {hours} hours\")"
   ]
  },
  {
   "cell_type": "markdown",
   "id": "12cc4c3b-5126-4d33-a216-632e51983c27",
   "metadata": {},
   "source": [
    "**Objectives:**\n",
    "- list popuiar languages for data science\n",
    "- Creat tables and lists in markdown\n",
    "- Identify commonly used data science libraries\n",
    "- Perform basic arithmetic opreations in python\n",
    "- Convert units using python expreesions"
   ]
  },
  {
   "cell_type": "markdown",
   "id": "f9616325-52fb-45af-a3d7-1583282651cf",
   "metadata": {},
   "source": [
    "## Author\n",
    "Ruba Albddawi"
   ]
  }
 ],
 "metadata": {
  "kernelspec": {
   "display_name": "Python 3 (ipykernel)",
   "language": "python",
   "name": "python3"
  },
  "language_info": {
   "codemirror_mode": {
    "name": "ipython",
    "version": 3
   },
   "file_extension": ".py",
   "mimetype": "text/x-python",
   "name": "python",
   "nbconvert_exporter": "python",
   "pygments_lexer": "ipython3",
   "version": "3.12.8"
  }
 },
 "nbformat": 4,
 "nbformat_minor": 5
}
